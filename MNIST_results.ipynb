{
 "cells": [
  {
   "cell_type": "code",
   "execution_count": 1,
   "metadata": {},
   "outputs": [],
   "source": [
    "import torch\n",
    "import scipy\n",
    "from scipy import ndimage\n",
    "import matplotlib.pyplot as plt\n",
    "%matplotlib inline\n",
    "\n",
    "import torch,torch.nn as nn\n",
    "import torch.nn.functional as F\n",
    "from torch.autograd import Variable\n",
    "import numpy as np\n",
    "\n",
    "from torchvision.datasets import MNIST\n",
    "import torchvision.transforms as transforms"
   ]
  },
  {
   "cell_type": "code",
   "execution_count": 2,
   "metadata": {},
   "outputs": [],
   "source": [
    "class Flatten(nn.Module):\n",
    "    def forward(self,x):\n",
    "        return x.view(x.size(0),-1)\n",
    "    \n",
    "class Empty(nn.Module):\n",
    "    def forward(self,x):\n",
    "        return x\n",
    "    \n",
    "def get_convnet(nonlinearity,dropout = 0,device = torch.device(\"cpu\")):\n",
    "    convnet = nn.Sequential(nn.Conv2d(1,6,5),\n",
    "                            nonlinearity,\n",
    "                            nn.MaxPool2d(2),\n",
    "                            nn.Conv2d(6,16,5),\n",
    "                            nonlinearity,\n",
    "                            nn.MaxPool2d(2),\n",
    "                            Flatten(),\n",
    "                            nn.Linear(400,120),\n",
    "                            nonlinearity,\n",
    "                            nn.Linear(120,84),\n",
    "                            nonlinearity,\n",
    "                            nn.Dropout(dropout),\n",
    "                            nn.Linear(84,10))\n",
    "    return convnet.to(device)\n",
    "\n",
    "def train_convnet(network,X,Y,num_iters = 1e6,threshold = 1e-3,device = torch.device(\"cpu\")):\n",
    "    network.train()\n",
    "    X = Variable(torch.FloatTensor(X)).to(device)\n",
    "    Y = Variable(torch.LongTensor(Y)).to(device)\n",
    "    opt = torch.optim.SGD(network.parameters(),lr = 0.01,weight_decay=1e-4,momentum=0.9)\n",
    "    NLLLoss = nn.modules.loss.NLLLoss()\n",
    "    history = []\n",
    "    for iter in range(num_iters):\n",
    "        Y_logp = F.log_softmax(network(X),dim = -1)\n",
    "        loss = NLLLoss(Y_logp,Y)\n",
    "        history.append(loss.data.cpu().numpy())\n",
    "        if iter > 0 and history[-1] - history[-2]>threshold:\n",
    "            break\n",
    "        opt.zero_grad()\n",
    "        loss.backward()\n",
    "        opt.step()\n",
    "    network.eval()\n",
    "    return network,history\n",
    "\n",
    "\n",
    "\n",
    "def get_minst_data():\n",
    "    trans = transforms.Compose([transforms.Pad(2),transforms.ToTensor(), transforms.Normalize((0.5,), (1.0,))])\n",
    "    mnist = MNIST('MNIST',download=True,transform=trans)\n",
    "\n",
    "    data_loader = torch.utils.data.DataLoader(mnist,\n",
    "                                              batch_size=60000,\n",
    "                                              shuffle=True)\n",
    "    imags, labels = data_loader.__iter__().__next__()\n",
    "    return imags, labels"
   ]
  },
  {
   "cell_type": "code",
   "execution_count": null,
   "metadata": {},
   "outputs": [],
   "source": [
    "convnet = torch.load('convnet.p', map_location='cpu')\n",
    "imags, labels = get_minst_data()"
   ]
  },
  {
   "cell_type": "code",
   "execution_count": null,
   "metadata": {},
   "outputs": [],
   "source": [
    "plt.figure(figsize=(20, 10))\n",
    "convnet.train()\n",
    "IMAGE = imags[int((labels==1).sort()[1][-3])] # choose image of 1\n",
    "\n",
    "size_experiment = 100\n",
    "angles = np.linspace(0, 110, 12)\n",
    "\n",
    "data_probas = np.zeros((10, len(angles), size_experiment))\n",
    "\n",
    "for i_angle, angle in enumerate(angles):\n",
    "    \n",
    "    image = IMAGE.data.numpy()\n",
    "    image = ndimage.interpolation.rotate(image[0], angle, reshape=False, cval=-0.5)\n",
    "    plt.subplot(2, 6, i_angle + 1)\n",
    "    plt.imshow(image)\n",
    "    image = torch.unsqueeze(torch.unsqueeze(torch.tensor(image), 0), 0)\n",
    "    \n",
    "    for num_experiment in range(size_experiment):\n",
    "        proba, val = F.softmax(convnet(image), dim=-1).sort()\n",
    "        proba = proba.data.numpy()[0]\n",
    "        val = val.data.numpy()[0]\n",
    "        \n",
    "        for i in range(10):        \n",
    "            data_probas[val[i], i_angle, num_experiment] = proba[i]"
   ]
  },
  {
   "cell_type": "code",
   "execution_count": null,
   "metadata": {},
   "outputs": [],
   "source": [
    "plt.figure(figsize=(15,7))\n",
    "for i, angle in enumerate(angles):\n",
    "    plt.scatter([angle] * 100, data_probas[1, i], alpha=0.5, c='green', marker='_')\n",
    "    plt.scatter([angle] * 100, data_probas[7, i], alpha=0.5, c='orange',  marker='_')\n",
    "    plt.scatter([angle] * 100, data_probas[5, i], alpha=0.5, c='blue', marker='_')\n",
    "    \n",
    "plt.title('green = 1, blue = 5, orange = 7');"
   ]
  }
 ],
 "metadata": {
  "kernelspec": {
   "display_name": "Python 3",
   "language": "python",
   "name": "python3"
  },
  "language_info": {
   "codemirror_mode": {
    "name": "ipython",
    "version": 3
   },
   "file_extension": ".py",
   "mimetype": "text/x-python",
   "name": "python",
   "nbconvert_exporter": "python",
   "pygments_lexer": "ipython3",
   "version": "3.6.3"
  }
 },
 "nbformat": 4,
 "nbformat_minor": 2
}
